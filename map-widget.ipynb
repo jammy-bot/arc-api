{
 "cells": [
  {
   "cell_type": "markdown",
   "metadata": {},
   "source": [
    "## Imports"
   ]
  },
  {
   "cell_type": "code",
   "execution_count": 1,
   "metadata": {},
   "outputs": [],
   "source": [
    "from arcgis.gis import GIS\n",
    "\n",
    "my_gis = GIS()"
   ]
  },
  {
   "cell_type": "code",
   "execution_count": 2,
   "metadata": {},
   "outputs": [],
   "source": [
    "# define a map\n",
    "my_map = my_gis.map()"
   ]
  },
  {
   "cell_type": "markdown",
   "metadata": {},
   "source": [
    "## Display a map"
   ]
  },
  {
   "cell_type": "code",
   "execution_count": 3,
   "metadata": {},
   "outputs": [
    {
     "data": {
      "application/vnd.jupyter.widget-view+json": {
       "model_id": "86622c9a1c034cf7b2526c39e2d0e372",
       "version_major": 2,
       "version_minor": 0
      },
      "text/plain": [
       "MapView(layout=Layout(height='400px', width='100%'))"
      ]
     },
     "metadata": {},
     "output_type": "display_data"
    },
    {
     "data": {
      "text/html": [
       "<div class=\"map-static-img-preview-fe13d13c-da46-434a-bcea-eec65ce07fe5\"><img src=\"\"></img></div>"
      ],
      "text/plain": [
       "<IPython.core.display.HTML object>"
      ]
     },
     "metadata": {},
     "output_type": "display_data"
    }
   ],
   "source": [
    "my_map"
   ]
  },
  {
   "cell_type": "code",
   "execution_count": 4,
   "metadata": {},
   "outputs": [
    {
     "data": {
      "application/vnd.jupyter.widget-view+json": {
       "model_id": "97a0746a8e8d46a19d43ed19a122eff1",
       "version_major": 2,
       "version_minor": 0
      },
      "text/plain": [
       "MapView(layout=Layout(height='400px', width='100%'))"
      ]
     },
     "metadata": {},
     "output_type": "display_data"
    },
    {
     "data": {
      "text/html": [
       "<div class=\"map-static-img-preview-d23ae778-a57e-4546-9f52-251e2a30c077\"><img src=\"\"></img></div>"
      ],
      "text/plain": [
       "<IPython.core.display.HTML object>"
      ]
     },
     "metadata": {},
     "output_type": "display_data"
    }
   ],
   "source": [
    "a_map = my_gis.map(\"Raleigh, NC\", 6) # with zoom level\n",
    "a_map.basemap = 'dark-gray-vector' # select basemap\n",
    "a_map"
   ]
  },
  {
   "cell_type": "markdown",
   "metadata": {},
   "source": [
    "## Search for a layer"
   ]
  },
  {
   "cell_type": "code",
   "execution_count": 5,
   "metadata": {},
   "outputs": [
    {
     "data": {
      "text/plain": [
       "[<Item title:\"Satellite (MODIS) Thermal Hotspots and Fire Activity\" type:Feature Layer Collection owner:esri_livefeeds2>,\n",
       " <Item title:\"MODIS Thermal (Last 48 hours)\" type:Feature Layer Collection owner:Dlpratt>,\n",
       " <Item title:\"MODIS - symbolized\" type:Feature Layer Collection owner:josterkamp_nifc>,\n",
       " <Item title:\"Join_Features_to_Satellite_(MODIS)_Thermal_Hotspots_and_Fire_Activity\" type:Feature Layer Collection owner:iZhuravleva>,\n",
       " <Item title:\"Find_Clusters_for_Satellite_(MODIS)_Thermal_Hotspots_and_Fire_Activity\" type:Feature Layer Collection owner:Ixchal_Gonzalez_LearnStudent>,\n",
       " <Item title:\"Describe_distribution_of_Find_Clusters_for_Satellite_(MODIS)_Thermal_Hotspots_and_Fire_Activity\" type:Feature Layer Collection owner:Ixchal_Gonzalez_LearnStudent>,\n",
       " <Item title:\"Buffer_of_Fire_in_Australia_Jan_8_MODIS_C6_Australia_and_New_Zealand_24h\" type:Feature Layer Collection owner:jrhemm>,\n",
       " <Item title:\"MODIS(ByHours)\" type:Feature Layer Collection owner:bmcgilvray_nifc>,\n",
       " <Item title:\"Firepoint, Feb 2017 (Modis V6) and Palm Oil Concession\" type:Feature Layer Collection owner:SawitWatch_sharedlandscapes>,\n",
       " <Item title:\"Satellite_(MODIS)_Thermal_Hotspots_and_Fire_Activity_Watersheds\" type:Feature Layer Collection owner:cshoemaker_shastagis>]"
      ]
     },
     "execution_count": 5,
     "metadata": {},
     "output_type": "execute_result"
    }
   ],
   "source": [
    "fire_search = my_gis.content.search(\"title:MODIS fire type:Feature Layer\")\n",
    "fire_search"
   ]
  },
  {
   "cell_type": "code",
   "execution_count": 6,
   "metadata": {},
   "outputs": [
    {
     "name": "stdout",
     "output_type": "stream",
     "text": [
      "b8f4033069f141729ffb298b7418b653\n"
     ]
    },
    {
     "data": {
      "text/html": [
       "<div class=\"item_container\" style=\"height: auto; overflow: hidden; border: 1px solid #cfcfcf; border-radius: 2px; background: #f6fafa; line-height: 1.21429em; padding: 10px;\">\n",
       "                    <div class=\"item_left\" style=\"width: 210px; float: left;\">\n",
       "                       <a href='https://www.arcgis.com/home/item.html?id=b8f4033069f141729ffb298b7418b653' target='_blank'>\n",
       "                        <img src='https://www.arcgis.com/sharing/rest//content/items/b8f4033069f141729ffb298b7418b653/info/thumbnail/thumbnail1560896788298.jpeg' class=\"itemThumbnail\">\n",
       "                       </a>\n",
       "                    </div>\n",
       "\n",
       "                    <div class=\"item_right\"     style=\"float: none; width: auto; overflow: hidden;\">\n",
       "                        <a href='https://www.arcgis.com/home/item.html?id=b8f4033069f141729ffb298b7418b653' target='_blank'><b>Satellite (MODIS) Thermal Hotspots and Fire Activity</b>\n",
       "                        </a>\n",
       "                        <br/>Thermal activity detected by the MODIS sensors on the NASA Aqua and Terra satellites during the last 48 hours.<img src='https://www.arcgis.com/home/js/jsapi/esri/css/images/item_type_icons/featureshosted16.png' style=\"vertical-align:middle;\">Feature Layer Collection by esri_livefeeds2\n",
       "                        <br/>Last Modified: December 13, 2020\n",
       "                        <br/>10 comments, 38,270,434 views\n",
       "                    </div>\n",
       "                </div>\n",
       "                "
      ],
      "text/plain": [
       "<Item title:\"Satellite (MODIS) Thermal Hotspots and Fire Activity\" type:Feature Layer Collection owner:esri_livefeeds2>"
      ]
     },
     "execution_count": 6,
     "metadata": {},
     "output_type": "execute_result"
    }
   ],
   "source": [
    "# printing the selected feature layer id\n",
    "print( fire_search[0].id )\n",
    "\n",
    "# viewing the feature layer hyperlink\n",
    "fire_search[0]"
   ]
  },
  {
   "cell_type": "markdown",
   "metadata": {},
   "source": [
    "Linked page includes attribute information."
   ]
  },
  {
   "cell_type": "code",
   "execution_count": 7,
   "metadata": {},
   "outputs": [
    {
     "data": {
      "text/html": [
       "<div class=\"item_container\" style=\"height: auto; overflow: hidden; border: 1px solid #cfcfcf; border-radius: 2px; background: #f6fafa; line-height: 1.21429em; padding: 10px;\">\n",
       "                    <div class=\"item_left\" style=\"width: 210px; float: left;\">\n",
       "                       <a href='https://www.arcgis.com/home/item.html?id=b8f4033069f141729ffb298b7418b653' target='_blank'>\n",
       "                        <img src='https://www.arcgis.com/sharing/rest//content/items/b8f4033069f141729ffb298b7418b653/info/thumbnail/thumbnail1560896788298.jpeg' class=\"itemThumbnail\">\n",
       "                       </a>\n",
       "                    </div>\n",
       "\n",
       "                    <div class=\"item_right\"     style=\"float: none; width: auto; overflow: hidden;\">\n",
       "                        <a href='https://www.arcgis.com/home/item.html?id=b8f4033069f141729ffb298b7418b653' target='_blank'><b>Satellite (MODIS) Thermal Hotspots and Fire Activity</b>\n",
       "                        </a>\n",
       "                        <br/>Thermal activity detected by the MODIS sensors on the NASA Aqua and Terra satellites during the last 48 hours.<img src='https://www.arcgis.com/home/js/jsapi/esri/css/images/item_type_icons/featureshosted16.png' style=\"vertical-align:middle;\">Feature Layer Collection by esri_livefeeds2\n",
       "                        <br/>Last Modified: December 13, 2020\n",
       "                        <br/>10 comments, 38,270,997 views\n",
       "                    </div>\n",
       "                </div>\n",
       "                "
      ],
      "text/plain": [
       "<Item title:\"Satellite (MODIS) Thermal Hotspots and Fire Activity\" type:Feature Layer Collection owner:esri_livefeeds2>"
      ]
     },
     "execution_count": 7,
     "metadata": {},
     "output_type": "execute_result"
    }
   ],
   "source": [
    "# select feature lay by content search index\n",
    "fire_layer = my_gis.content.get(fire_search[0].id )\n",
    "fire_layer"
   ]
  },
  {
   "cell_type": "code",
   "execution_count": 8,
   "metadata": {
    "scrolled": true
   },
   "outputs": [
    {
     "data": {
      "application/vnd.jupyter.widget-view+json": {
       "model_id": "97a0746a8e8d46a19d43ed19a122eff1",
       "version_major": 2,
       "version_minor": 0
      },
      "text/plain": [
       "MapView(layout=Layout(height='400px', width='100%'))"
      ]
     },
     "metadata": {},
     "output_type": "display_data"
    },
    {
     "data": {
      "text/html": [
       "<div class=\"map-static-img-preview-d23ae778-a57e-4546-9f52-251e2a30c077\"><img src=\"\"></img></div>"
      ],
      "text/plain": [
       "<IPython.core.display.HTML object>"
      ]
     },
     "metadata": {},
     "output_type": "display_data"
    }
   ],
   "source": [
    "a_map.add_layer(fire_layer)\n",
    "a_map"
   ]
  },
  {
   "cell_type": "markdown",
   "metadata": {},
   "source": [
    "## Add another layer"
   ]
  },
  {
   "cell_type": "code",
   "execution_count": 9,
   "metadata": {},
   "outputs": [
    {
     "data": {
      "text/plain": [
       "[<Item title:\"FRCOG_Solar_Concern_Layers\" type:Feature Layer Collection owner:masscecosw>,\n",
       " <Item title:\"Solar Supply Chain Businesses\" type:Feature Collection owner:IaPolicy>,\n",
       " <Item title:\"2017 Solar\" type:Feature Layer Collection owner:TPIN_Digital>,\n",
       " <Item title:\"Aggregation_of_Solar_Power_Plants_in_US\" type:Feature Layer Collection owner:ctrent6>,\n",
       " <Item title:\"Solar Analysis 3D Scene_WFL1\" type:Feature Layer Collection owner:209290_geospatialDenver>,\n",
       " <Item title:\"Summarize Study Area (Areas) within Parking Lot Solar Panels (Areas) 3\" type:Feature Layer Collection owner:max_babcock@redlands.edu_univredlands>,\n",
       " <Item title:\"Solar_Fingerprint\" type:Feature Layer Collection owner:zarhei20>,\n",
       " <Item title:\"Solar Site Locations\" type:Feature Layer Collection owner:ShaughnessyS@hillsboroughcounty.org_hillsborough>,\n",
       " <Item title:\"Fohlmeister_Solar_Farms\" type:Feature Layer Collection owner:FohlmeisJG11_UWW>,\n",
       " <Item title:\"Merge solar_augment_ngas_plants_public solar_augment_coal_plants_public\" type:Feature Layer Collection owner:blockwood18_amherstcollege>]"
      ]
     },
     "execution_count": 9,
     "metadata": {},
     "output_type": "execute_result"
    }
   ],
   "source": [
    "# searching feature layers with \"solar\"\n",
    "solar_search = my_gis.content.search(\"title:solar type:Feature Layer\")\n",
    "solar_search"
   ]
  },
  {
   "cell_type": "code",
   "execution_count": 10,
   "metadata": {},
   "outputs": [
    {
     "data": {
      "text/html": [
       "<div class=\"item_container\" style=\"height: auto; overflow: hidden; border: 1px solid #cfcfcf; border-radius: 2px; background: #f6fafa; line-height: 1.21429em; padding: 10px;\">\n",
       "                    <div class=\"item_left\" style=\"width: 210px; float: left;\">\n",
       "                       <a href='https://www.arcgis.com/home/item.html?id=552c6791b27c4d39854d389764a10578' target='_blank'>\n",
       "                        <img src='https://www.arcgis.com/sharing/rest//content/items/552c6791b27c4d39854d389764a10578/info/thumbnail/ago_downloaded.png' class=\"itemThumbnail\">\n",
       "                       </a>\n",
       "                    </div>\n",
       "\n",
       "                    <div class=\"item_right\"     style=\"float: none; width: auto; overflow: hidden;\">\n",
       "                        <a href='https://www.arcgis.com/home/item.html?id=552c6791b27c4d39854d389764a10578' target='_blank'><b>Aggregation_of_Solar_Power_Plants_in_US</b>\n",
       "                        </a>\n",
       "                        <br/>Feature layer generated from Aggregate Points<img src='https://www.arcgis.com/home/js/jsapi/esri/css/images/item_type_icons/featureshosted16.png' style=\"vertical-align:middle;\">Feature Layer Collection by ctrent6\n",
       "                        <br/>Last Modified: November 15, 2018\n",
       "                        <br/>0 comments, 58 views\n",
       "                    </div>\n",
       "                </div>\n",
       "                "
      ],
      "text/plain": [
       "<Item title:\"Aggregation_of_Solar_Power_Plants_in_US\" type:Feature Layer Collection owner:ctrent6>"
      ]
     },
     "execution_count": 10,
     "metadata": {},
     "output_type": "execute_result"
    }
   ],
   "source": [
    "# retrieving feature layer by index\n",
    "solar_layer = my_gis.content.get(solar_search[3].id )\n",
    "solar_layer"
   ]
  },
  {
   "cell_type": "code",
   "execution_count": 11,
   "metadata": {},
   "outputs": [
    {
     "data": {
      "application/vnd.jupyter.widget-view+json": {
       "model_id": "97a0746a8e8d46a19d43ed19a122eff1",
       "version_major": 2,
       "version_minor": 0
      },
      "text/plain": [
       "MapView(layout=Layout(height='400px', width='100%'))"
      ]
     },
     "metadata": {},
     "output_type": "display_data"
    },
    {
     "data": {
      "text/html": [
       "<div class=\"map-static-img-preview-d23ae778-a57e-4546-9f52-251e2a30c077\"><img src=\"\"></img></div>"
      ],
      "text/plain": [
       "<IPython.core.display.HTML object>"
      ]
     },
     "metadata": {},
     "output_type": "display_data"
    }
   ],
   "source": [
    "# adding feature layer to map\n",
    "a_map.add_layer(solar_layer)\n",
    "a_map"
   ]
  },
  {
   "cell_type": "code",
   "execution_count": 12,
   "metadata": {},
   "outputs": [
    {
     "data": {
      "text/plain": [
       "[<FeatureLayer url:\"https://services9.arcgis.com/RHVPKKiFTONKtxq3/arcgis/rest/services/MODIS_Thermal_v1/FeatureServer/0\">,\n",
       " <FeatureLayer url:\"https://services2.arcgis.com/njxlOVQKvDzk10uN/arcgis/rest/services/Aggregation_of_Solar_Power_Plants_in_US/FeatureServer/0\">]"
      ]
     },
     "execution_count": 12,
     "metadata": {},
     "output_type": "execute_result"
    }
   ],
   "source": [
    "# listing layers\n",
    "a_map.layers"
   ]
  },
  {
   "cell_type": "code",
   "execution_count": 13,
   "metadata": {},
   "outputs": [
    {
     "data": {
      "text/plain": [
       "True"
      ]
     },
     "execution_count": 13,
     "metadata": {},
     "output_type": "execute_result"
    }
   ],
   "source": [
    "a_map.remove_layers(a_map.layers[0])"
   ]
  },
  {
   "cell_type": "code",
   "execution_count": 14,
   "metadata": {},
   "outputs": [
    {
     "data": {
      "text/plain": [
       "[<FeatureLayer url:\"https://services2.arcgis.com/njxlOVQKvDzk10uN/arcgis/rest/services/Aggregation_of_Solar_Power_Plants_in_US/FeatureServer/0\">]"
      ]
     },
     "execution_count": 14,
     "metadata": {},
     "output_type": "execute_result"
    }
   ],
   "source": [
    "# Viewing list of [remaining?] layers\n",
    "a_map.layers"
   ]
  },
  {
   "cell_type": "code",
   "execution_count": 15,
   "metadata": {},
   "outputs": [
    {
     "data": {
      "application/vnd.jupyter.widget-view+json": {
       "model_id": "97a0746a8e8d46a19d43ed19a122eff1",
       "version_major": 2,
       "version_minor": 0
      },
      "text/plain": [
       "MapView(layout=Layout(height='400px', width='100%'))"
      ]
     },
     "metadata": {},
     "output_type": "display_data"
    },
    {
     "data": {
      "text/html": [
       "<div class=\"map-static-img-preview-d23ae778-a57e-4546-9f52-251e2a30c077\"><img src=\"\"></img></div>"
      ],
      "text/plain": [
       "<IPython.core.display.HTML object>"
      ]
     },
     "metadata": {},
     "output_type": "display_data"
    }
   ],
   "source": [
    "# viewing [without] MODIS thermal layer\n",
    "a_map"
   ]
  },
  {
   "cell_type": "markdown",
   "metadata": {},
   "source": [
    "Thermal layer is no longer in the layers list, but still shows on the map."
   ]
  },
  {
   "cell_type": "code",
   "execution_count": 16,
   "metadata": {},
   "outputs": [
    {
     "name": "stdout",
     "output_type": "stream",
     "text": [
      "[]\n"
     ]
    },
    {
     "data": {
      "application/vnd.jupyter.widget-view+json": {
       "model_id": "97a0746a8e8d46a19d43ed19a122eff1",
       "version_major": 2,
       "version_minor": 0
      },
      "text/plain": [
       "MapView(layout=Layout(height='400px', width='100%'))"
      ]
     },
     "metadata": {},
     "output_type": "display_data"
    },
    {
     "data": {
      "text/html": [
       "<div class=\"map-static-img-preview-d23ae778-a57e-4546-9f52-251e2a30c077\"><img src=\"\"></img></div>"
      ],
      "text/plain": [
       "<IPython.core.display.HTML object>"
      ]
     },
     "metadata": {},
     "output_type": "display_data"
    }
   ],
   "source": [
    "# try removing all layers\n",
    "a_map.remove_layers()\n",
    "\n",
    "# viewing the layers list\n",
    "print ( a_map.layers )\n",
    "\n",
    "# viewing the map\n",
    "a_map"
   ]
  },
  {
   "cell_type": "markdown",
   "metadata": {},
   "source": [
    "List is empty...layers still show on map."
   ]
  },
  {
   "cell_type": "markdown",
   "metadata": {},
   "source": [
    "**-->W.I.P.<---**"
   ]
  },
  {
   "cell_type": "code",
   "execution_count": null,
   "metadata": {},
   "outputs": [],
   "source": []
  }
 ],
 "metadata": {
  "kernelspec": {
   "display_name": "Python 3",
   "language": "python",
   "name": "python3"
  },
  "language_info": {
   "codemirror_mode": {
    "name": "ipython",
    "version": 3
   },
   "file_extension": ".py",
   "mimetype": "text/x-python",
   "name": "python",
   "nbconvert_exporter": "python",
   "pygments_lexer": "ipython3",
   "version": "3.6.10"
  }
 },
 "nbformat": 4,
 "nbformat_minor": 4
}
